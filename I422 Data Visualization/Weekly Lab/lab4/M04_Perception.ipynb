{
 "cells": [
  {
   "cell_type": "markdown",
   "metadata": {},
   "source": [
    "# W3 Lab: Perception\n",
    "\n",
    "In this lab, we will learn basic usage of `pandas` library and then perform a small experiment to test the perception of length and area. "
   ]
  },
  {
   "cell_type": "code",
   "execution_count": 6,
   "metadata": {},
   "outputs": [],
   "source": [
    "import pandas as pd\n",
    "import matplotlib.pyplot as plt\n",
    "%matplotlib inline"
   ]
  },
  {
   "cell_type": "markdown",
   "metadata": {},
   "source": [
    "## Vega datasets \n",
    "\n",
    "Before going into the perception experiment, let's first talk about some handy datasets that you can play with. \n",
    "\n",
    "It's nice to have clean datasets handy to practice data visualization. There is a nice small package called [`vega-datasets`](https://github.com/altair-viz/vega_datasets), from the [altair project](https://github.com/altair-viz). \n",
    "\n",
    "You can install the package by running\n",
    "\n",
    "    $ pip install vega-datasets\n",
    "    \n",
    "or \n",
    "\n",
    "    $ pip3 install vega-datasets\n",
    "    \n",
    "Once you install the package, you can import and see the list of datasets:"
   ]
  },
  {
   "cell_type": "code",
   "execution_count": 7,
   "metadata": {},
   "outputs": [
    {
     "data": {
      "text/plain": [
       "['7zip',\n",
       " 'airports',\n",
       " 'anscombe',\n",
       " 'barley',\n",
       " 'birdstrikes',\n",
       " 'budget',\n",
       " 'budgets',\n",
       " 'burtin',\n",
       " 'cars',\n",
       " 'climate',\n",
       " 'co2-concentration',\n",
       " 'countries',\n",
       " 'crimea',\n",
       " 'disasters',\n",
       " 'driving',\n",
       " 'earthquakes',\n",
       " 'ffox',\n",
       " 'flare',\n",
       " 'flare-dependencies',\n",
       " 'flights-10k',\n",
       " 'flights-200k',\n",
       " 'flights-20k',\n",
       " 'flights-2k',\n",
       " 'flights-3m',\n",
       " 'flights-5k',\n",
       " 'flights-airport',\n",
       " 'gapminder',\n",
       " 'gapminder-health-income',\n",
       " 'gimp',\n",
       " 'github',\n",
       " 'graticule',\n",
       " 'income',\n",
       " 'iowa-electricity',\n",
       " 'iris',\n",
       " 'jobs',\n",
       " 'la-riots',\n",
       " 'londonBoroughs',\n",
       " 'londonCentroids',\n",
       " 'londonTubeLines',\n",
       " 'lookup_groups',\n",
       " 'lookup_people',\n",
       " 'miserables',\n",
       " 'monarchs',\n",
       " 'movies',\n",
       " 'normal-2d',\n",
       " 'obesity',\n",
       " 'points',\n",
       " 'population',\n",
       " 'population_engineers_hurricanes',\n",
       " 'seattle-temps',\n",
       " 'seattle-weather',\n",
       " 'sf-temps',\n",
       " 'sp500',\n",
       " 'stocks',\n",
       " 'udistrict',\n",
       " 'unemployment',\n",
       " 'unemployment-across-industries',\n",
       " 'us-10m',\n",
       " 'us-employment',\n",
       " 'us-state-capitals',\n",
       " 'weather',\n",
       " 'weball26',\n",
       " 'wheat',\n",
       " 'world-110m',\n",
       " 'zipcodes']"
      ]
     },
     "execution_count": 7,
     "metadata": {},
     "output_type": "execute_result"
    }
   ],
   "source": [
    "from vega_datasets import data\n",
    "\n",
    "data.list_datasets()"
   ]
  },
  {
   "cell_type": "markdown",
   "metadata": {},
   "source": [
    "or you can work with only smaller, local datasets. "
   ]
  },
  {
   "cell_type": "code",
   "execution_count": 8,
   "metadata": {},
   "outputs": [
    {
     "data": {
      "text/plain": [
       "['airports',\n",
       " 'anscombe',\n",
       " 'barley',\n",
       " 'burtin',\n",
       " 'cars',\n",
       " 'crimea',\n",
       " 'driving',\n",
       " 'iowa-electricity',\n",
       " 'iris',\n",
       " 'la-riots',\n",
       " 'seattle-temps',\n",
       " 'seattle-weather',\n",
       " 'sf-temps',\n",
       " 'stocks',\n",
       " 'us-employment',\n",
       " 'wheat']"
      ]
     },
     "execution_count": 8,
     "metadata": {},
     "output_type": "execute_result"
    }
   ],
   "source": [
    "from vega_datasets import local_data\n",
    "local_data.list_datasets()"
   ]
  },
  {
   "cell_type": "markdown",
   "metadata": {},
   "source": [
    "Ah, we have the `anscombe` data here! Let's see the description of the dataset. "
   ]
  },
  {
   "cell_type": "code",
   "execution_count": 9,
   "metadata": {},
   "outputs": [
    {
     "data": {
      "text/plain": [
       "\"Anscombe's Quartet is a famous dataset constructed by Francis Anscombe [1]_. Common summary statistics are identical for each subset of the data, despite the subsets having vastly different characteristics.\""
      ]
     },
     "execution_count": 9,
     "metadata": {},
     "output_type": "execute_result"
    }
   ],
   "source": [
    "local_data.anscombe.description"
   ]
  },
  {
   "cell_type": "markdown",
   "metadata": {},
   "source": [
    "## Anscombe's quartet dataset\n",
    "\n",
    "How does the actual data look like? Very conveniently, calling the dataset returns a Pandas dataframe for you. "
   ]
  },
  {
   "cell_type": "code",
   "execution_count": 10,
   "metadata": {},
   "outputs": [
    {
     "data": {
      "text/html": [
       "<div>\n",
       "<style scoped>\n",
       "    .dataframe tbody tr th:only-of-type {\n",
       "        vertical-align: middle;\n",
       "    }\n",
       "\n",
       "    .dataframe tbody tr th {\n",
       "        vertical-align: top;\n",
       "    }\n",
       "\n",
       "    .dataframe thead th {\n",
       "        text-align: right;\n",
       "    }\n",
       "</style>\n",
       "<table border=\"1\" class=\"dataframe\">\n",
       "  <thead>\n",
       "    <tr style=\"text-align: right;\">\n",
       "      <th></th>\n",
       "      <th>Series</th>\n",
       "      <th>X</th>\n",
       "      <th>Y</th>\n",
       "    </tr>\n",
       "  </thead>\n",
       "  <tbody>\n",
       "    <tr>\n",
       "      <td>0</td>\n",
       "      <td>I</td>\n",
       "      <td>10</td>\n",
       "      <td>8.04</td>\n",
       "    </tr>\n",
       "    <tr>\n",
       "      <td>1</td>\n",
       "      <td>I</td>\n",
       "      <td>8</td>\n",
       "      <td>6.95</td>\n",
       "    </tr>\n",
       "    <tr>\n",
       "      <td>2</td>\n",
       "      <td>I</td>\n",
       "      <td>13</td>\n",
       "      <td>7.58</td>\n",
       "    </tr>\n",
       "    <tr>\n",
       "      <td>3</td>\n",
       "      <td>I</td>\n",
       "      <td>9</td>\n",
       "      <td>8.81</td>\n",
       "    </tr>\n",
       "    <tr>\n",
       "      <td>4</td>\n",
       "      <td>I</td>\n",
       "      <td>11</td>\n",
       "      <td>8.33</td>\n",
       "    </tr>\n",
       "  </tbody>\n",
       "</table>\n",
       "</div>"
      ],
      "text/plain": [
       "  Series   X     Y\n",
       "0      I  10  8.04\n",
       "1      I   8  6.95\n",
       "2      I  13  7.58\n",
       "3      I   9  8.81\n",
       "4      I  11  8.33"
      ]
     },
     "execution_count": 10,
     "metadata": {},
     "output_type": "execute_result"
    }
   ],
   "source": [
    "df = local_data.anscombe()\n",
    "df.head()"
   ]
  },
  {
   "cell_type": "markdown",
   "metadata": {},
   "source": [
    "**Q1: can you draw a scatterplot of the dataset \"I\"?** You can filter the dataframe based on the `Series` column and use `plot` function that you used for the Snow's map. "
   ]
  },
  {
   "cell_type": "code",
   "execution_count": 11,
   "metadata": {},
   "outputs": [
    {
     "data": {
      "text/plain": [
       "<matplotlib.collections.PathCollection at 0x1223c59e8>"
      ]
     },
     "execution_count": 11,
     "metadata": {},
     "output_type": "execute_result"
    },
    {
     "data": {
      "image/png": "[encoded data removed]",
      "text/plain": [
       "<Figure size 432x288 with 1 Axes>"
      ]
     },
     "metadata": {
      "needs_background": "light"
     },
     "output_type": "display_data"
    }
   ],
   "source": [
    "dfi = df[df['Series']=='I']\n",
    "plt.scatter(dfi['X'],dfi['Y'])"
   ]
  },
  {
   "cell_type": "markdown",
   "metadata": {},
   "source": [
    "## Some histograms with pandas "
   ]
  },
  {
   "cell_type": "markdown",
   "metadata": {},
   "source": [
    "Let's look at a slightly more complicated dataset."
   ]
  },
  {
   "cell_type": "code",
   "execution_count": 12,
   "metadata": {},
   "outputs": [
    {
     "data": {
      "text/html": [
       "<div>\n",
       "<style scoped>\n",
       "    .dataframe tbody tr th:only-of-type {\n",
       "        vertical-align: middle;\n",
       "    }\n",
       "\n",
       "    .dataframe tbody tr th {\n",
       "        vertical-align: top;\n",
       "    }\n",
       "\n",
       "    .dataframe thead th {\n",
       "        text-align: right;\n",
       "    }\n",
       "</style>\n",
       "<table border=\"1\" class=\"dataframe\">\n",
       "  <thead>\n",
       "    <tr style=\"text-align: right;\">\n",
       "      <th></th>\n",
       "      <th>Name</th>\n",
       "      <th>Miles_per_Gallon</th>\n",
       "      <th>Cylinders</th>\n",
       "      <th>Displacement</th>\n",
       "      <th>Horsepower</th>\n",
       "      <th>Weight_in_lbs</th>\n",
       "      <th>Acceleration</th>\n",
       "      <th>Year</th>\n",
       "      <th>Origin</th>\n",
       "    </tr>\n",
       "  </thead>\n",
       "  <tbody>\n",
       "    <tr>\n",
       "      <td>0</td>\n",
       "      <td>chevrolet chevelle malibu</td>\n",
       "      <td>18.0</td>\n",
       "      <td>8</td>\n",
       "      <td>307.0</td>\n",
       "      <td>130.0</td>\n",
       "      <td>3504</td>\n",
       "      <td>12.0</td>\n",
       "      <td>1970-01-01</td>\n",
       "      <td>USA</td>\n",
       "    </tr>\n",
       "    <tr>\n",
       "      <td>1</td>\n",
       "      <td>buick skylark 320</td>\n",
       "      <td>15.0</td>\n",
       "      <td>8</td>\n",
       "      <td>350.0</td>\n",
       "      <td>165.0</td>\n",
       "      <td>3693</td>\n",
       "      <td>11.5</td>\n",
       "      <td>1970-01-01</td>\n",
       "      <td>USA</td>\n",
       "    </tr>\n",
       "    <tr>\n",
       "      <td>2</td>\n",
       "      <td>plymouth satellite</td>\n",
       "      <td>18.0</td>\n",
       "      <td>8</td>\n",
       "      <td>318.0</td>\n",
       "      <td>150.0</td>\n",
       "      <td>3436</td>\n",
       "      <td>11.0</td>\n",
       "      <td>1970-01-01</td>\n",
       "      <td>USA</td>\n",
       "    </tr>\n",
       "    <tr>\n",
       "      <td>3</td>\n",
       "      <td>amc rebel sst</td>\n",
       "      <td>16.0</td>\n",
       "      <td>8</td>\n",
       "      <td>304.0</td>\n",
       "      <td>150.0</td>\n",
       "      <td>3433</td>\n",
       "      <td>12.0</td>\n",
       "      <td>1970-01-01</td>\n",
       "      <td>USA</td>\n",
       "    </tr>\n",
       "    <tr>\n",
       "      <td>4</td>\n",
       "      <td>ford torino</td>\n",
       "      <td>17.0</td>\n",
       "      <td>8</td>\n",
       "      <td>302.0</td>\n",
       "      <td>140.0</td>\n",
       "      <td>3449</td>\n",
       "      <td>10.5</td>\n",
       "      <td>1970-01-01</td>\n",
       "      <td>USA</td>\n",
       "    </tr>\n",
       "  </tbody>\n",
       "</table>\n",
       "</div>"
      ],
      "text/plain": [
       "                        Name  Miles_per_Gallon  Cylinders  Displacement  \\\n",
       "0  chevrolet chevelle malibu              18.0          8         307.0   \n",
       "1          buick skylark 320              15.0          8         350.0   \n",
       "2         plymouth satellite              18.0          8         318.0   \n",
       "3              amc rebel sst              16.0          8         304.0   \n",
       "4                ford torino              17.0          8         302.0   \n",
       "\n",
       "   Horsepower  Weight_in_lbs  Acceleration       Year Origin  \n",
       "0       130.0           3504          12.0 1970-01-01    USA  \n",
       "1       165.0           3693          11.5 1970-01-01    USA  \n",
       "2       150.0           3436          11.0 1970-01-01    USA  \n",
       "3       150.0           3433          12.0 1970-01-01    USA  \n",
       "4       140.0           3449          10.5 1970-01-01    USA  "
      ]
     },
     "execution_count": 12,
     "metadata": {},
     "output_type": "execute_result"
    }
   ],
   "source": [
    "car_df = local_data.cars()\n",
    "car_df.head()"
   ]
  },
  {
   "cell_type": "markdown",
   "metadata": {},
   "source": [
    "Pandas provides useful summary functions. It identifies numerical data columns and provides you with a table of summary statistics. "
   ]
  },
  {
   "cell_type": "code",
   "execution_count": 13,
   "metadata": {},
   "outputs": [
    {
     "data": {
      "text/html": [
       "<div>\n",
       "<style scoped>\n",
       "    .dataframe tbody tr th:only-of-type {\n",
       "        vertical-align: middle;\n",
       "    }\n",
       "\n",
       "    .dataframe tbody tr th {\n",
       "        vertical-align: top;\n",
       "    }\n",
       "\n",
       "    .dataframe thead th {\n",
       "        text-align: right;\n",
       "    }\n",
       "</style>\n",
       "<table border=\"1\" class=\"dataframe\">\n",
       "  <thead>\n",
       "    <tr style=\"text-align: right;\">\n",
       "      <th></th>\n",
       "      <th>Miles_per_Gallon</th>\n",
       "      <th>Cylinders</th>\n",
       "      <th>Displacement</th>\n",
       "      <th>Horsepower</th>\n",
       "      <th>Weight_in_lbs</th>\n",
       "      <th>Acceleration</th>\n",
       "    </tr>\n",
       "  </thead>\n",
       "  <tbody>\n",
       "    <tr>\n",
       "      <td>count</td>\n",
       "      <td>398.000000</td>\n",
       "      <td>406.000000</td>\n",
       "      <td>406.000000</td>\n",
       "      <td>400.000000</td>\n",
       "      <td>406.000000</td>\n",
       "      <td>406.000000</td>\n",
       "    </tr>\n",
       "    <tr>\n",
       "      <td>mean</td>\n",
       "      <td>23.514573</td>\n",
       "      <td>5.475369</td>\n",
       "      <td>194.779557</td>\n",
       "      <td>105.082500</td>\n",
       "      <td>2979.413793</td>\n",
       "      <td>15.519704</td>\n",
       "    </tr>\n",
       "    <tr>\n",
       "      <td>std</td>\n",
       "      <td>7.815984</td>\n",
       "      <td>1.712160</td>\n",
       "      <td>104.922458</td>\n",
       "      <td>38.768779</td>\n",
       "      <td>847.004328</td>\n",
       "      <td>2.803359</td>\n",
       "    </tr>\n",
       "    <tr>\n",
       "      <td>min</td>\n",
       "      <td>9.000000</td>\n",
       "      <td>3.000000</td>\n",
       "      <td>68.000000</td>\n",
       "      <td>46.000000</td>\n",
       "      <td>1613.000000</td>\n",
       "      <td>8.000000</td>\n",
       "    </tr>\n",
       "    <tr>\n",
       "      <td>25%</td>\n",
       "      <td>17.500000</td>\n",
       "      <td>4.000000</td>\n",
       "      <td>105.000000</td>\n",
       "      <td>75.750000</td>\n",
       "      <td>2226.500000</td>\n",
       "      <td>13.700000</td>\n",
       "    </tr>\n",
       "    <tr>\n",
       "      <td>50%</td>\n",
       "      <td>23.000000</td>\n",
       "      <td>4.000000</td>\n",
       "      <td>151.000000</td>\n",
       "      <td>95.000000</td>\n",
       "      <td>2822.500000</td>\n",
       "      <td>15.500000</td>\n",
       "    </tr>\n",
       "    <tr>\n",
       "      <td>75%</td>\n",
       "      <td>29.000000</td>\n",
       "      <td>8.000000</td>\n",
       "      <td>302.000000</td>\n",
       "      <td>130.000000</td>\n",
       "      <td>3618.250000</td>\n",
       "      <td>17.175000</td>\n",
       "    </tr>\n",
       "    <tr>\n",
       "      <td>max</td>\n",
       "      <td>46.600000</td>\n",
       "      <td>8.000000</td>\n",
       "      <td>455.000000</td>\n",
       "      <td>230.000000</td>\n",
       "      <td>5140.000000</td>\n",
       "      <td>24.800000</td>\n",
       "    </tr>\n",
       "  </tbody>\n",
       "</table>\n",
       "</div>"
      ],
      "text/plain": [
       "       Miles_per_Gallon   Cylinders  Displacement  Horsepower  Weight_in_lbs  \\\n",
       "count        398.000000  406.000000    406.000000  400.000000     406.000000   \n",
       "mean          23.514573    5.475369    194.779557  105.082500    2979.413793   \n",
       "std            7.815984    1.712160    104.922458   38.768779     847.004328   \n",
       "min            9.000000    3.000000     68.000000   46.000000    1613.000000   \n",
       "25%           17.500000    4.000000    105.000000   75.750000    2226.500000   \n",
       "50%           23.000000    4.000000    151.000000   95.000000    2822.500000   \n",
       "75%           29.000000    8.000000    302.000000  130.000000    3618.250000   \n",
       "max           46.600000    8.000000    455.000000  230.000000    5140.000000   \n",
       "\n",
       "       Acceleration  \n",
       "count    406.000000  \n",
       "mean      15.519704  \n",
       "std        2.803359  \n",
       "min        8.000000  \n",
       "25%       13.700000  \n",
       "50%       15.500000  \n",
       "75%       17.175000  \n",
       "max       24.800000  "
      ]
     },
     "execution_count": 13,
     "metadata": {},
     "output_type": "execute_result"
    }
   ],
   "source": [
    "car_df.describe()"
   ]
  },
  {
   "cell_type": "markdown",
   "metadata": {},
   "source": [
    "If you ask to draw a histogram, you get all of them. :)"
   ]
  },
  {
   "cell_type": "code",
   "execution_count": 14,
   "metadata": {},
   "outputs": [
    {
     "data": {
      "text/plain": [
       "array([[<matplotlib.axes._subplots.AxesSubplot object at 0x122402278>,\n",
       "        <matplotlib.axes._subplots.AxesSubplot object at 0x1224d22b0>],\n",
       "       [<matplotlib.axes._subplots.AxesSubplot object at 0x1224f6470>,\n",
       "        <matplotlib.axes._subplots.AxesSubplot object at 0x122426668>],\n",
       "       [<matplotlib.axes._subplots.AxesSubplot object at 0x1225ac7f0>,\n",
       "        <matplotlib.axes._subplots.AxesSubplot object at 0x1225d7da0>]],\n",
       "      dtype=object)"
      ]
     },
     "execution_count": 14,
     "metadata": {},
     "output_type": "execute_result"
    },
    {
     "data": {
      "image/png": "[encoded data removed]",
      "text/plain": [
       "<Figure size 432x288 with 6 Axes>"
      ]
     },
     "metadata": {
      "needs_background": "light"
     },
     "output_type": "display_data"
    }
   ],
   "source": [
    "car_df.hist()"
   ]
  },
  {
   "cell_type": "markdown",
   "metadata": {},
   "source": [
    "Well this is too small. You can check out [the documentation](https://pandas.pydata.org/pandas-docs/stable/generated/pandas.DataFrame.hist.html) and change the size of the figure. \n",
    "\n",
    "**Q2: by consulting the documentation, can you make the figure larger so that we can see all the labels clearly? And then make the layout 2 x 3 not 3 x 2, then change the number of bins to 20?**"
   ]
  },
  {
   "cell_type": "code",
   "execution_count": 15,
   "metadata": {},
   "outputs": [
    {
     "data": {
      "text/plain": [
       "array([[<matplotlib.axes._subplots.AxesSubplot object at 0x122415128>,\n",
       "        <matplotlib.axes._subplots.AxesSubplot object at 0x12274e828>,\n",
       "        <matplotlib.axes._subplots.AxesSubplot object at 0x122778dd8>],\n",
       "       [<matplotlib.axes._subplots.AxesSubplot object at 0x1228143c8>,\n",
       "        <matplotlib.axes._subplots.AxesSubplot object at 0x122845978>,\n",
       "        <matplotlib.axes._subplots.AxesSubplot object at 0x122875f28>]],\n",
       "      dtype=object)"
      ]
     },
     "execution_count": 15,
     "metadata": {},
     "output_type": "execute_result"
    },
    {
     "data": {
      "image/png": "[encoded data removed]",
      "text/plain": [
       "<Figure size 864x576 with 6 Axes>"
      ]
     },
     "metadata": {
      "needs_background": "light"
     },
     "output_type": "display_data"
    }
   ],
   "source": [
    "car_df.hist(bins=20,figsize=(12,8),layout=(2,3))"
   ]
  },
  {
   "cell_type": "markdown",
   "metadata": {},
   "source": [
    "## Your own psychophysics experiment!"
   ]
  },
  {
   "cell_type": "markdown",
   "metadata": {},
   "source": [
    "Let's do an experiment! The procedure is as follows:\n",
    "\n",
    "1. Generate a random number between \\[1, 10\\];\n",
    "1. Use a horizontal bar to represent the number, i.e., the length of the bar is equal to the number;\n",
    "1. Guess the length of the bar by comparing it to two other bars with length 1 and 10 respectively;\n",
    "1. Store your guess (perceived length) and actual length to two separate lists;\n",
    "1. Repeat the above steps many times;\n",
    "1. How does the perception of length differ from that of area?.\n",
    "\n",
    "First, let's define the length of a short and a long bar. We also create two empty lists to store perceived and actual length."
   ]
  },
  {
   "cell_type": "code",
   "execution_count": 16,
   "metadata": {},
   "outputs": [],
   "source": [
    "import random\n",
    "import time\n",
    "import numpy as np\n",
    "\n",
    "l_short_bar = 1\n",
    "l_long_bar = 10\n",
    "\n",
    "perceived_length_list = []\n",
    "actual_length_list = []"
   ]
  },
  {
   "cell_type": "markdown",
   "metadata": {},
   "source": [
    "### Perception of length\n",
    "\n",
    "Let's run the experiment.\n",
    "\n",
    "The [**`random`**](https://docs.python.org/3.6/library/random.html) module in Python provides various random number generators, and the [**`random.uniform(a,b)`**](https://docs.python.org/3.6/library/random.html#random.uniform) function returns a floating point number in \\[a,b\\]. \n",
    "\n",
    "We can plot horizontal bars using the [**`pyplot.barh()`**](http://matplotlib.org/api/pyplot_api.html#matplotlib.pyplot.barh) function. Using this function, we can produce a bar graph that looks like this:"
   ]
  },
  {
   "cell_type": "code",
   "execution_count": 29,
   "metadata": {},
   "outputs": [
    {
     "data": {
      "text/plain": [
       "([], <a list of 0 Text xticklabel objects>)"
      ]
     },
     "execution_count": 29,
     "metadata": {},
     "output_type": "execute_result"
    },
    {
     "data": {
      "image/png": "[encoded data removed]",
      "text/plain": [
       "<Figure size 432x288 with 1 Axes>"
      ]
     },
     "metadata": {
      "needs_background": "light"
     },
     "output_type": "display_data"
    }
   ],
   "source": [
    "mystery_length = random.uniform(1, 10)  # generate a number between 1 and 10. this is the *actual* length.\n",
    "\n",
    "plt.barh(np.arange(3), [l_short_bar, mystery_length, l_long_bar], align='center')\n",
    "plt.yticks(np.arange(3), ('1', '?', '10'))\n",
    "plt.xticks([]) # no hint!"
   ]
  },
  {
   "cell_type": "markdown",
   "metadata": {},
   "source": [
    "Btw, `np.arange` is used to create a simple integer list `[0, 1, 2]`. "
   ]
  },
  {
   "cell_type": "code",
   "execution_count": 30,
   "metadata": {},
   "outputs": [
    {
     "data": {
      "text/plain": [
       "array([0, 1, 2])"
      ]
     },
     "execution_count": 30,
     "metadata": {},
     "output_type": "execute_result"
    }
   ],
   "source": [
    "np.arange(3)"
   ]
  },
  {
   "cell_type": "markdown",
   "metadata": {},
   "source": [
    "Now let's define a function to perform the experiment once. When you run this function, it picks a random number between 1.0 and 10.0 and show the bar chart. Then it asks you to input your estimate of the length of the middle bar. It then saves that number to the `perceived_length_list` and the actual answer to the `actual_length_list`. "
   ]
  },
  {
   "cell_type": "code",
   "execution_count": 120,
   "metadata": {},
   "outputs": [],
   "source": [
    "def run_exp_once():\n",
    "    mystery_length = random.uniform(1, 10)  # generate a number between 1 and 10. \n",
    "\n",
    "    plt.barh(np.arange(3), [l_short_bar, mystery_length, l_long_bar], height=0.5, align='center')\n",
    "    plt.yticks(np.arange(3), ('1', '?', '10'))\n",
    "    plt.xticks([]) # no hint!\n",
    "    plt.show()\n",
    "    \n",
    "    perceived_length_list.append( float(input()) )\n",
    "    actual_length_list.append(mystery_length)"
   ]
  },
  {
   "cell_type": "code",
   "execution_count": 130,
   "metadata": {},
   "outputs": [
    {
     "data": {
      "image/png": "[encoded data removed]",
      "text/plain": [
       "<Figure size 432x288 with 1 Axes>"
      ]
     },
     "metadata": {
      "needs_background": "light"
     },
     "output_type": "display_data"
    },
    {
     "name": "stdout",
     "output_type": "stream",
     "text": [
      "5.2\n"
     ]
    }
   ],
   "source": [
    "run_exp_once()"
   ]
  },
  {
   "cell_type": "markdown",
   "metadata": {},
   "source": [
    "Now, run the experiment many times to gather your data. Check the two lists to make sure that you have the proper dataset. The length of the two lists should be the same. "
   ]
  },
  {
   "cell_type": "code",
   "execution_count": 131,
   "metadata": {},
   "outputs": [
    {
     "data": {
      "text/plain": [
       "[4.3, 1.2, 8.4, 4.6, 5.1, 4.2, 5.2]"
      ]
     },
     "execution_count": 131,
     "metadata": {},
     "output_type": "execute_result"
    }
   ],
   "source": [
    "perceived_length_list"
   ]
  },
  {
   "cell_type": "code",
   "execution_count": 132,
   "metadata": {},
   "outputs": [
    {
     "data": {
      "text/plain": [
       "[4.631475264357969,\n",
       " 1.2176504467694784,\n",
       " 8.253138664376173,\n",
       " 4.889061334553043,\n",
       " 5.388584102601223,\n",
       " 4.508111612877153,\n",
       " 5.354981436590382]"
      ]
     },
     "execution_count": 132,
     "metadata": {},
     "output_type": "execute_result"
    }
   ],
   "source": [
    "actual_length_list"
   ]
  },
  {
   "cell_type": "markdown",
   "metadata": {},
   "source": [
    "### Plotting the result\n",
    "\n",
    "Now we can draw the scatter plot of perceived and actual length. The `matplotlib`'s [**`scatter()`**](http://matplotlib.org/api/pyplot_api.html#matplotlib.pyplot.scatter) function will do this. This is the backend of the pandas' scatterplot. Here is an example of how to use `scatter`:"
   ]
  },
  {
   "cell_type": "code",
   "execution_count": 51,
   "metadata": {},
   "outputs": [
    {
     "data": {
      "text/plain": [
       "<matplotlib.collections.PathCollection at 0x12ed8b1d0>"
      ]
     },
     "execution_count": 51,
     "metadata": {},
     "output_type": "execute_result"
    },
    {
     "data": {
      "image/png": "[encoded data removed]",
      "text/plain": [
       "<Figure size 432x288 with 1 Axes>"
      ]
     },
     "metadata": {
      "needs_background": "light"
     },
     "output_type": "display_data"
    }
   ],
   "source": [
    "plt.scatter(x=[1,5,10], y=[1,10, 5])"
   ]
  },
  {
   "cell_type": "markdown",
   "metadata": {},
   "source": [
    "**Q3: Now plot your result using the `scatter()` function. You should also use `plt.title()`, `plt.xlabel()`, and `plt.ylabel()` to label your axes and the plot itself.**"
   ]
  },
  {
   "cell_type": "code",
   "execution_count": 133,
   "metadata": {},
   "outputs": [
    {
     "data": {
      "text/plain": [
       "Text(0, 0.5, 'Perceived')"
      ]
     },
     "execution_count": 133,
     "metadata": {},
     "output_type": "execute_result"
    },
    {
     "data": {
      "image/png": "[encoded data removed]",
      "text/plain": [
       "<Figure size 432x288 with 1 Axes>"
      ]
     },
     "metadata": {
      "needs_background": "light"
     },
     "output_type": "display_data"
    }
   ],
   "source": [
    "plt.scatter(actual_length_list,perceived_length_list)\n",
    "plt.title(\"Is Steven's power law true?(Length)\")\n",
    "plt.xlabel('Actual')\n",
    "plt.ylabel('Perceived')"
   ]
  },
  {
   "cell_type": "markdown",
   "metadata": {},
   "source": [
    "After plotting, let's fit the relation between actual and perceived lengths using a polynomial function. We can easily do it using [**`curve_fit(f, x, y)`**](http://docs.scipy.org/doc/scipy/reference/generated/scipy.optimize.curve_fit.html) in Scipy, which is to fit $x$ and $y$ using the function `f`. In our case, $f = a*x^b +c$. For instance, we can check whether this works by creating a fake dataset that follows the exact form:"
   ]
  },
  {
   "cell_type": "code",
   "execution_count": 38,
   "metadata": {},
   "outputs": [
    {
     "name": "stdout",
     "output_type": "stream",
     "text": [
      "1.00 x^2.00 + 0.00\n"
     ]
    }
   ],
   "source": [
    "from scipy.optimize import curve_fit\n",
    "\n",
    "def func(x, a, b, c):\n",
    "    return a * np.power(x, b) + c\n",
    "\n",
    "x = np.arange(20)  # [0,1,2,3, ..., 19]\n",
    "y = np.power(x, 2) # [0,1,4,9, ... ]\n",
    "\n",
    "popt, pcov = curve_fit(func, x, y)\n",
    "print('{:.2f} x^{:.2f} + {:.2f}'.format(*popt))"
   ]
  },
  {
   "cell_type": "markdown",
   "metadata": {},
   "source": [
    "**Q4: Now fit your data!** Do you see roughly linear relationship between the actual and the perceived lengths? It's ok if you don't!"
   ]
  },
  {
   "cell_type": "code",
   "execution_count": 134,
   "metadata": {},
   "outputs": [
    {
     "name": "stdout",
     "output_type": "stream",
     "text": [
      "0.58 x^1.24 + 0.46\n"
     ]
    }
   ],
   "source": [
    "popt, pcov = curve_fit(func,actual_length_list,perceived_length_list)\n",
    "print('{:.2f} x^{:.2f} + {:.2f}'.format(*popt))"
   ]
  },
  {
   "cell_type": "markdown",
   "metadata": {},
   "source": [
    "### Perception of area\n",
    "\n",
    "Similar to the above experiment, we now represent a random number as a circle, and the area of the circle is equal to the number.\n",
    "\n",
    "First, calculate the radius of a circle from its area and then plot using the **`Circle()`** function. `plt.Circle((0,0), r)` will plot a circle centered at (0,0) with radius `r`."
   ]
  },
  {
   "cell_type": "code",
   "execution_count": 4,
   "metadata": {},
   "outputs": [],
   "source": [
    "import numpy as np"
   ]
  },
  {
   "cell_type": "code",
   "execution_count": 22,
   "metadata": {},
   "outputs": [
    {
     "data": {
      "text/plain": [
       "<matplotlib.patches.Circle at 0x122f276a0>"
      ]
     },
     "execution_count": 22,
     "metadata": {},
     "output_type": "execute_result"
    },
    {
     "data": {
      "image/png": "[encoded data removed]",
      "text/plain": [
       "<Figure size 432x288 with 1 Axes>"
      ]
     },
     "metadata": {
      "needs_background": "light"
     },
     "output_type": "display_data"
    }
   ],
   "source": [
    "n1 = 0.005\n",
    "n2 = 0.05\n",
    "\n",
    "radius1 = np.sqrt(n1/np.pi) # area = pi * r * r\n",
    "radius2 = np.sqrt(n2/np.pi)\n",
    "random_radius = np.sqrt(n1*random.uniform(1,10)/np.pi)\n",
    "\n",
    "plt.axis('equal')\n",
    "plt.axis('off')\n",
    "circ1 = plt.Circle( (0,0),         radius1, clip_on=False )\n",
    "circ2 = plt.Circle( (4*radius2,0), radius2, clip_on=False )\n",
    "rand_circ = plt.Circle((2*radius2,0), random_radius, clip_on=False )\n",
    "\n",
    "plt.gca().add_artist(circ1)\n",
    "plt.gca().add_artist(circ2)\n",
    "plt.gca().add_artist(rand_circ)"
   ]
  },
  {
   "cell_type": "markdown",
   "metadata": {},
   "source": [
    "Let's have two lists for this experiment.  "
   ]
  },
  {
   "cell_type": "code",
   "execution_count": 23,
   "metadata": {},
   "outputs": [],
   "source": [
    "perceived_area_list = []\n",
    "actual_area_list = []"
   ]
  },
  {
   "cell_type": "markdown",
   "metadata": {},
   "source": [
    "And define a function for the experiment. "
   ]
  },
  {
   "cell_type": "code",
   "execution_count": 24,
   "metadata": {},
   "outputs": [],
   "source": [
    "def run_area_exp_once(n1=0.005, n2=0.05):    \n",
    "    radius1 = np.sqrt(n1/np.pi) # area = pi * r * r\n",
    "    radius2 = np.sqrt(n2/np.pi)\n",
    "    \n",
    "    mystery_number = random.uniform(1,10)\n",
    "    random_radius = np.sqrt(n1*mystery_number/np.pi)\n",
    "\n",
    "    plt.axis('equal')\n",
    "    plt.axis('off')\n",
    "    circ1 = plt.Circle( (0,0),         radius1, clip_on=False )\n",
    "    circ2 = plt.Circle( (4*radius2,0), radius2, clip_on=False )\n",
    "    rand_circ = plt.Circle((2*radius2,0), random_radius, clip_on=False )\n",
    "    plt.gca().add_artist(circ1)\n",
    "    plt.gca().add_artist(circ2)\n",
    "    plt.gca().add_artist(rand_circ)    \n",
    "    plt.show()\n",
    "    \n",
    "    perceived_area_list.append( float(input()) )\n",
    "    actual_area_list.append(mystery_number)"
   ]
  },
  {
   "cell_type": "markdown",
   "metadata": {},
   "source": [
    "**Q5: Now you can run the experiment many times, plot the result, and fit a power-law curve!** "
   ]
  },
  {
   "cell_type": "code",
   "execution_count": 33,
   "metadata": {},
   "outputs": [
    {
     "data": {
      "image/png": "[encoded data removed]",
      "text/plain": [
       "<Figure size 432x288 with 1 Axes>"
      ]
     },
     "metadata": {
      "needs_background": "light"
     },
     "output_type": "display_data"
    },
    {
     "name": "stdout",
     "output_type": "stream",
     "text": [
      "6.8\n"
     ]
    }
   ],
   "source": [
    "run_area_exp_once()"
   ]
  },
  {
   "cell_type": "markdown",
   "metadata": {},
   "source": [
    "What is your result? How are the exponents different from each other? "
   ]
  },
  {
   "cell_type": "code",
   "execution_count": 34,
   "metadata": {},
   "outputs": [
    {
     "data": {
      "text/plain": [
       "[1.3, 9.9, 2.3, 4.6, 4.5, 1.1, 6.8]"
      ]
     },
     "execution_count": 34,
     "metadata": {},
     "output_type": "execute_result"
    }
   ],
   "source": [
    "perceived_area_list"
   ]
  },
  {
   "cell_type": "code",
   "execution_count": 35,
   "metadata": {},
   "outputs": [
    {
     "data": {
      "text/plain": [
       "[1.7036197354301832,\n",
       " 9.624824884641189,\n",
       " 2.1796090808905495,\n",
       " 4.659809419617617,\n",
       " 5.9947691593287535,\n",
       " 1.2719098842430059,\n",
       " 6.225863242475874]"
      ]
     },
     "execution_count": 35,
     "metadata": {},
     "output_type": "execute_result"
    }
   ],
   "source": [
    "actual_area_list"
   ]
  },
  {
   "cell_type": "code",
   "execution_count": 36,
   "metadata": {},
   "outputs": [
    {
     "data": {
      "text/plain": [
       "Text(0, 0.5, 'Perceived')"
      ]
     },
     "execution_count": 36,
     "metadata": {},
     "output_type": "execute_result"
    },
    {
     "data": {
      "image/png": "[encoded data removed]",
      "text/plain": [
       "<Figure size 432x288 with 1 Axes>"
      ]
     },
     "metadata": {
      "needs_background": "light"
     },
     "output_type": "display_data"
    }
   ],
   "source": [
    "plt.scatter(actual_area_list,perceived_area_list)\n",
    "plt.title(\"Is Steven's power law true?(Area)\")\n",
    "plt.xlabel('Actual')\n",
    "plt.ylabel('Perceived')"
   ]
  },
  {
   "cell_type": "code",
   "execution_count": 39,
   "metadata": {
    "scrolled": true
   },
   "outputs": [
    {
     "name": "stdout",
     "output_type": "stream",
     "text": [
      "0.62 x^1.21 + 0.35\n"
     ]
    }
   ],
   "source": [
    "popt, pcov = curve_fit(func,actual_area_list,perceived_area_list)\n",
    "print('{:.2f} x^{:.2f} + {:.2f}'.format(*popt))"
   ]
  },
  {
   "cell_type": "code",
   "execution_count": null,
   "metadata": {},
   "outputs": [],
   "source": []
  }
 ],
 "metadata": {
  "kernelspec": {
   "display_name": "Python 3",
   "language": "python",
   "name": "python3"
  },
  "language_info": {
   "codemirror_mode": {
    "name": "ipython",
    "version": 3
   },
   "file_extension": ".py",
   "mimetype": "text/x-python",
   "name": "python",
   "nbconvert_exporter": "python",
   "pygments_lexer": "ipython3",
   "version": "3.7.1"
  }
 },
 "nbformat": 4,
 "nbformat_minor": 2
}
